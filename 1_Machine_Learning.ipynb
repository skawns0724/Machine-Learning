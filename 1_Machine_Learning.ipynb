{
  "nbformat": 4,
  "nbformat_minor": 0,
  "metadata": {
    "colab": {
      "name": "1-Machine-Learning.ipynb",
      "provenance": [],
      "collapsed_sections": [],
      "authorship_tag": "ABX9TyNkrUYUgfXAQ5zL33MmRN8f",
      "include_colab_link": true
    },
    "kernelspec": {
      "name": "python3",
      "display_name": "Python 3"
    },
    "language_info": {
      "name": "python"
    }
  },
  "cells": [
    {
      "cell_type": "markdown",
      "metadata": {
        "id": "view-in-github",
        "colab_type": "text"
      },
      "source": [
        "<a href=\"https://colab.research.google.com/github/skawns0724/Machine-Learning/blob/main/1_Machine_Learning.ipynb\" target=\"_parent\"><img src=\"https://colab.research.google.com/assets/colab-badge.svg\" alt=\"Open In Colab\"/></a>"
      ]
    },
    {
      "cell_type": "code",
      "metadata": {
        "id": "Bg8o8ULHLUQ8"
      },
      "source": [
        "score = [[15 ,16, 17],\n",
        "         [25, 26, 27],\n",
        "         [35, 36, 37]]"
      ],
      "execution_count": 1,
      "outputs": []
    },
    {
      "cell_type": "code",
      "metadata": {
        "colab": {
          "base_uri": "https://localhost:8080/"
        },
        "id": "9lkghidwLcZ6",
        "outputId": "0466d81f-0320-40a2-a86e-62c0c0d47ea6"
      },
      "source": [
        "type(score)"
      ],
      "execution_count": 2,
      "outputs": [
        {
          "output_type": "execute_result",
          "data": {
            "text/plain": [
              "list"
            ]
          },
          "metadata": {},
          "execution_count": 2
        }
      ]
    },
    {
      "cell_type": "code",
      "metadata": {
        "id": "6W8w87gWLdWf"
      },
      "source": [
        "import numpy as np"
      ],
      "execution_count": 3,
      "outputs": []
    },
    {
      "cell_type": "code",
      "metadata": {
        "id": "WQ4HeQwXLeyn"
      },
      "source": [
        "np_score = np.array(score)"
      ],
      "execution_count": 4,
      "outputs": []
    },
    {
      "cell_type": "code",
      "metadata": {
        "colab": {
          "base_uri": "https://localhost:8080/"
        },
        "id": "sPV114drLiLP",
        "outputId": "3657a30a-51b7-445d-9058-8f48ce53e8c9"
      },
      "source": [
        "type(np_score)"
      ],
      "execution_count": 6,
      "outputs": [
        {
          "output_type": "execute_result",
          "data": {
            "text/plain": [
              "numpy.ndarray"
            ]
          },
          "metadata": {},
          "execution_count": 6
        }
      ]
    },
    {
      "cell_type": "code",
      "metadata": {
        "id": "du9LcLLLLi_f"
      },
      "source": [
        "import pandas as pd"
      ],
      "execution_count": 7,
      "outputs": []
    },
    {
      "cell_type": "code",
      "metadata": {
        "id": "Xt4801eTMB3n"
      },
      "source": [
        "df_score = pd.DataFrame(np_score, index=['A_class', 'B_class', 'C_class'], columns=['kor', 'eng', 'math'])"
      ],
      "execution_count": 8,
      "outputs": []
    },
    {
      "cell_type": "code",
      "metadata": {
        "colab": {
          "base_uri": "https://localhost:8080/",
          "height": 142
        },
        "id": "9UdnGE3LMQ7n",
        "outputId": "028a4166-aa08-4cd2-fabb-d17179f364d2"
      },
      "source": [
        "df_score"
      ],
      "execution_count": 9,
      "outputs": [
        {
          "output_type": "execute_result",
          "data": {
            "text/html": [
              "<div>\n",
              "<style scoped>\n",
              "    .dataframe tbody tr th:only-of-type {\n",
              "        vertical-align: middle;\n",
              "    }\n",
              "\n",
              "    .dataframe tbody tr th {\n",
              "        vertical-align: top;\n",
              "    }\n",
              "\n",
              "    .dataframe thead th {\n",
              "        text-align: right;\n",
              "    }\n",
              "</style>\n",
              "<table border=\"1\" class=\"dataframe\">\n",
              "  <thead>\n",
              "    <tr style=\"text-align: right;\">\n",
              "      <th></th>\n",
              "      <th>kor</th>\n",
              "      <th>eng</th>\n",
              "      <th>math</th>\n",
              "    </tr>\n",
              "  </thead>\n",
              "  <tbody>\n",
              "    <tr>\n",
              "      <th>A_class</th>\n",
              "      <td>15</td>\n",
              "      <td>16</td>\n",
              "      <td>17</td>\n",
              "    </tr>\n",
              "    <tr>\n",
              "      <th>B_class</th>\n",
              "      <td>25</td>\n",
              "      <td>26</td>\n",
              "      <td>27</td>\n",
              "    </tr>\n",
              "    <tr>\n",
              "      <th>C_class</th>\n",
              "      <td>35</td>\n",
              "      <td>36</td>\n",
              "      <td>37</td>\n",
              "    </tr>\n",
              "  </tbody>\n",
              "</table>\n",
              "</div>"
            ],
            "text/plain": [
              "         kor  eng  math\n",
              "A_class   15   16    17\n",
              "B_class   25   26    27\n",
              "C_class   35   36    37"
            ]
          },
          "metadata": {},
          "execution_count": 9
        }
      ]
    },
    {
      "cell_type": "code",
      "metadata": {
        "id": "GNrWZdSjMR7X"
      },
      "source": [
        "avg_kor = df_score['kor'].mean()"
      ],
      "execution_count": 12,
      "outputs": []
    },
    {
      "cell_type": "code",
      "metadata": {
        "colab": {
          "base_uri": "https://localhost:8080/"
        },
        "id": "8jyahnmPMcf_",
        "outputId": "4d662df4-a902-41b3-8708-6782bbf67ad1"
      },
      "source": [
        "avg_kor"
      ],
      "execution_count": 13,
      "outputs": [
        {
          "output_type": "execute_result",
          "data": {
            "text/plain": [
              "25.0"
            ]
          },
          "metadata": {},
          "execution_count": 13
        }
      ]
    },
    {
      "cell_type": "code",
      "metadata": {
        "id": "NbdRDQz9Md43"
      },
      "source": [
        "max_kor = df_score['kor'].max()"
      ],
      "execution_count": 16,
      "outputs": []
    },
    {
      "cell_type": "code",
      "metadata": {
        "colab": {
          "base_uri": "https://localhost:8080/"
        },
        "id": "1vjk5zbkMmY3",
        "outputId": "a9b06edf-939b-4c5e-9762-351a2e933530"
      },
      "source": [
        "max_kor"
      ],
      "execution_count": 17,
      "outputs": [
        {
          "output_type": "execute_result",
          "data": {
            "text/plain": [
              "35"
            ]
          },
          "metadata": {},
          "execution_count": 17
        }
      ]
    },
    {
      "cell_type": "code",
      "metadata": {
        "id": "PZeHgXp0MtGf"
      },
      "source": [
        "new_np_array = df_score.values"
      ],
      "execution_count": 18,
      "outputs": []
    },
    {
      "cell_type": "code",
      "metadata": {
        "colab": {
          "base_uri": "https://localhost:8080/"
        },
        "id": "VTWTe2AaNud3",
        "outputId": "1a1a7f74-4ef9-4a8f-a63e-99ee3ab5053f"
      },
      "source": [
        "new_np_array"
      ],
      "execution_count": 19,
      "outputs": [
        {
          "output_type": "execute_result",
          "data": {
            "text/plain": [
              "array([[15, 16, 17],\n",
              "       [25, 26, 27],\n",
              "       [35, 36, 37]])"
            ]
          },
          "metadata": {},
          "execution_count": 19
        }
      ]
    },
    {
      "cell_type": "code",
      "metadata": {
        "id": "g-0oLq9PNxlf"
      },
      "source": [
        "new_list_score = new_np_array.tolist()"
      ],
      "execution_count": 21,
      "outputs": []
    },
    {
      "cell_type": "code",
      "metadata": {
        "colab": {
          "base_uri": "https://localhost:8080/"
        },
        "id": "6XxMNGTBN7L_",
        "outputId": "b65b654d-09c1-42ac-ab65-c21312bb8096"
      },
      "source": [
        "new_list_score"
      ],
      "execution_count": 22,
      "outputs": [
        {
          "output_type": "execute_result",
          "data": {
            "text/plain": [
              "[[15, 16, 17], [25, 26, 27], [35, 36, 37]]"
            ]
          },
          "metadata": {},
          "execution_count": 22
        }
      ]
    },
    {
      "cell_type": "code",
      "metadata": {
        "id": "U5gfC18QOC_3"
      },
      "source": [
        "practice = [[13,135,18,156],\n",
        "            [255,1856,163,135],\n",
        "            [156,322,456,132],\n",
        "            [345,621,1111,351]]"
      ],
      "execution_count": 23,
      "outputs": []
    },
    {
      "cell_type": "code",
      "metadata": {
        "id": "pKIlsfI1PqAu"
      },
      "source": [
        "practice_array = np.array(practice)"
      ],
      "execution_count": 31,
      "outputs": []
    },
    {
      "cell_type": "code",
      "metadata": {
        "colab": {
          "base_uri": "https://localhost:8080/"
        },
        "id": "MxK1ZFdgP2DX",
        "outputId": "86e4634a-42cc-483b-e30c-e009d6066d3d"
      },
      "source": [
        "practice_array"
      ],
      "execution_count": 32,
      "outputs": [
        {
          "output_type": "execute_result",
          "data": {
            "text/plain": [
              "array([[  13,  135,   18,  156],\n",
              "       [ 255, 1856,  163,  135],\n",
              "       [ 156,  322,  456,  132],\n",
              "       [ 345,  621, 1111,  351]])"
            ]
          },
          "metadata": {},
          "execution_count": 32
        }
      ]
    },
    {
      "cell_type": "code",
      "metadata": {
        "id": "oKrwEKXkP6OP"
      },
      "source": [
        "practice_df = pd.DataFrame(practice_array, index=['강남', '강북', '강동', '강서'], columns=['고도', '위도', '위치', '위상'])"
      ],
      "execution_count": 33,
      "outputs": []
    },
    {
      "cell_type": "code",
      "metadata": {
        "colab": {
          "base_uri": "https://localhost:8080/",
          "height": 173
        },
        "id": "bTOHFsr6QXYQ",
        "outputId": "bab004c3-bb47-412a-9415-f8ba68fedb87"
      },
      "source": [
        "practice_df"
      ],
      "execution_count": 34,
      "outputs": [
        {
          "output_type": "execute_result",
          "data": {
            "text/html": [
              "<div>\n",
              "<style scoped>\n",
              "    .dataframe tbody tr th:only-of-type {\n",
              "        vertical-align: middle;\n",
              "    }\n",
              "\n",
              "    .dataframe tbody tr th {\n",
              "        vertical-align: top;\n",
              "    }\n",
              "\n",
              "    .dataframe thead th {\n",
              "        text-align: right;\n",
              "    }\n",
              "</style>\n",
              "<table border=\"1\" class=\"dataframe\">\n",
              "  <thead>\n",
              "    <tr style=\"text-align: right;\">\n",
              "      <th></th>\n",
              "      <th>고도</th>\n",
              "      <th>위도</th>\n",
              "      <th>위치</th>\n",
              "      <th>위상</th>\n",
              "    </tr>\n",
              "  </thead>\n",
              "  <tbody>\n",
              "    <tr>\n",
              "      <th>강남</th>\n",
              "      <td>13</td>\n",
              "      <td>135</td>\n",
              "      <td>18</td>\n",
              "      <td>156</td>\n",
              "    </tr>\n",
              "    <tr>\n",
              "      <th>강북</th>\n",
              "      <td>255</td>\n",
              "      <td>1856</td>\n",
              "      <td>163</td>\n",
              "      <td>135</td>\n",
              "    </tr>\n",
              "    <tr>\n",
              "      <th>강동</th>\n",
              "      <td>156</td>\n",
              "      <td>322</td>\n",
              "      <td>456</td>\n",
              "      <td>132</td>\n",
              "    </tr>\n",
              "    <tr>\n",
              "      <th>강서</th>\n",
              "      <td>345</td>\n",
              "      <td>621</td>\n",
              "      <td>1111</td>\n",
              "      <td>351</td>\n",
              "    </tr>\n",
              "  </tbody>\n",
              "</table>\n",
              "</div>"
            ],
            "text/plain": [
              "     고도    위도    위치   위상\n",
              "강남   13   135    18  156\n",
              "강북  255  1856   163  135\n",
              "강동  156   322   456  132\n",
              "강서  345   621  1111  351"
            ]
          },
          "metadata": {},
          "execution_count": 34
        }
      ]
    },
    {
      "cell_type": "code",
      "metadata": {
        "id": "lqe4neRhQYg3"
      },
      "source": [
        "new_practice_array = practice_df.values"
      ],
      "execution_count": 35,
      "outputs": []
    },
    {
      "cell_type": "code",
      "metadata": {
        "colab": {
          "base_uri": "https://localhost:8080/"
        },
        "id": "3DxsJD4klohi",
        "outputId": "f17d9370-f16d-475d-cbb2-6ee64938ef53"
      },
      "source": [
        "new_practice_array"
      ],
      "execution_count": 36,
      "outputs": [
        {
          "output_type": "execute_result",
          "data": {
            "text/plain": [
              "array([[  13,  135,   18,  156],\n",
              "       [ 255, 1856,  163,  135],\n",
              "       [ 156,  322,  456,  132],\n",
              "       [ 345,  621, 1111,  351]])"
            ]
          },
          "metadata": {},
          "execution_count": 36
        }
      ]
    },
    {
      "cell_type": "code",
      "metadata": {
        "id": "0cf6P2rIlzbY"
      },
      "source": [
        "new_practice_list = new_practice_array.tolist()"
      ],
      "execution_count": 39,
      "outputs": []
    },
    {
      "cell_type": "code",
      "metadata": {
        "colab": {
          "base_uri": "https://localhost:8080/"
        },
        "id": "tqgLuF1ll5m4",
        "outputId": "bab5dd8a-e15a-447a-a670-066e0d20ddaa"
      },
      "source": [
        "new_practice_list"
      ],
      "execution_count": 40,
      "outputs": [
        {
          "output_type": "execute_result",
          "data": {
            "text/plain": [
              "[[13, 135, 18, 156],\n",
              " [255, 1856, 163, 135],\n",
              " [156, 322, 456, 132],\n",
              " [345, 621, 1111, 351]]"
            ]
          },
          "metadata": {},
          "execution_count": 40
        }
      ]
    },
    {
      "cell_type": "code",
      "metadata": {
        "id": "ofGI0vnpl605"
      },
      "source": [
        ""
      ],
      "execution_count": null,
      "outputs": []
    }
  ]
}